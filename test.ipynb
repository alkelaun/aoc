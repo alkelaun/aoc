{
 "cells": [
  {
   "cell_type": "code",
   "execution_count": 1,
   "metadata": {},
   "outputs": [],
   "source": [
    "a = 1\n"
   ]
  },
  {
   "cell_type": "code",
   "execution_count": 2,
   "metadata": {},
   "outputs": [],
   "source": [
    "import itertools\n"
   ]
  },
  {
   "cell_type": "code",
   "execution_count": 3,
   "metadata": {},
   "outputs": [],
   "source": [
    "a = [\"john\", \"chris\", \"steve\", \"mike\"]"
   ]
  },
  {
   "cell_type": "code",
   "execution_count": 4,
   "metadata": {},
   "outputs": [
    {
     "data": {
      "text/html": [
       "<pre style=\"white-space:pre;overflow-x:auto;line-height:normal;font-family:Menlo,'DejaVu Sans Mono',consolas,'Courier New',monospace\"><span style=\"font-weight: bold\">[]</span>\n",
       "</pre>\n"
      ],
      "text/plain": [
       "\u001b[1m[\u001b[0m\u001b[1m]\u001b[0m\n"
      ]
     },
     "metadata": {},
     "output_type": "display_data"
    }
   ],
   "source": [
    "itertools.combinations(a, 2)\n",
    "\n",
    "list(_)"
   ]
  },
  {
   "cell_type": "code",
   "execution_count": 5,
   "metadata": {},
   "outputs": [
    {
     "data": {
      "text/html": [
       "<pre style=\"white-space:pre;overflow-x:auto;line-height:normal;font-family:Menlo,'DejaVu Sans Mono',consolas,'Courier New',monospace\">\n",
       "<span style=\"font-weight: bold\">[</span>\n",
       "    <span style=\"font-weight: bold\">(</span><span style=\"color: #008000; text-decoration-color: #008000\">'john'</span>, <span style=\"color: #008000; text-decoration-color: #008000\">'chris'</span><span style=\"font-weight: bold\">)</span>,\n",
       "    <span style=\"font-weight: bold\">(</span><span style=\"color: #008000; text-decoration-color: #008000\">'john'</span>, <span style=\"color: #008000; text-decoration-color: #008000\">'steve'</span><span style=\"font-weight: bold\">)</span>,\n",
       "    <span style=\"font-weight: bold\">(</span><span style=\"color: #008000; text-decoration-color: #008000\">'john'</span>, <span style=\"color: #008000; text-decoration-color: #008000\">'mike'</span><span style=\"font-weight: bold\">)</span>,\n",
       "    <span style=\"font-weight: bold\">(</span><span style=\"color: #008000; text-decoration-color: #008000\">'chris'</span>, <span style=\"color: #008000; text-decoration-color: #008000\">'john'</span><span style=\"font-weight: bold\">)</span>,\n",
       "    <span style=\"font-weight: bold\">(</span><span style=\"color: #008000; text-decoration-color: #008000\">'chris'</span>, <span style=\"color: #008000; text-decoration-color: #008000\">'steve'</span><span style=\"font-weight: bold\">)</span>,\n",
       "    <span style=\"font-weight: bold\">(</span><span style=\"color: #008000; text-decoration-color: #008000\">'chris'</span>, <span style=\"color: #008000; text-decoration-color: #008000\">'mike'</span><span style=\"font-weight: bold\">)</span>,\n",
       "    <span style=\"font-weight: bold\">(</span><span style=\"color: #008000; text-decoration-color: #008000\">'steve'</span>, <span style=\"color: #008000; text-decoration-color: #008000\">'john'</span><span style=\"font-weight: bold\">)</span>,\n",
       "    <span style=\"font-weight: bold\">(</span><span style=\"color: #008000; text-decoration-color: #008000\">'steve'</span>, <span style=\"color: #008000; text-decoration-color: #008000\">'chris'</span><span style=\"font-weight: bold\">)</span>,\n",
       "    <span style=\"font-weight: bold\">(</span><span style=\"color: #008000; text-decoration-color: #008000\">'steve'</span>, <span style=\"color: #008000; text-decoration-color: #008000\">'mike'</span><span style=\"font-weight: bold\">)</span>,\n",
       "    <span style=\"font-weight: bold\">(</span><span style=\"color: #008000; text-decoration-color: #008000\">'mike'</span>, <span style=\"color: #008000; text-decoration-color: #008000\">'john'</span><span style=\"font-weight: bold\">)</span>,\n",
       "    <span style=\"font-weight: bold\">(</span><span style=\"color: #008000; text-decoration-color: #008000\">'mike'</span>, <span style=\"color: #008000; text-decoration-color: #008000\">'chris'</span><span style=\"font-weight: bold\">)</span>,\n",
       "    <span style=\"font-weight: bold\">(</span><span style=\"color: #008000; text-decoration-color: #008000\">'mike'</span>, <span style=\"color: #008000; text-decoration-color: #008000\">'steve'</span><span style=\"font-weight: bold\">)</span>\n",
       "<span style=\"font-weight: bold\">]</span>\n",
       "</pre>\n"
      ],
      "text/plain": [
       "\n",
       "\u001b[1m[\u001b[0m\n",
       "    \u001b[1m(\u001b[0m\u001b[32m'john'\u001b[0m, \u001b[32m'chris'\u001b[0m\u001b[1m)\u001b[0m,\n",
       "    \u001b[1m(\u001b[0m\u001b[32m'john'\u001b[0m, \u001b[32m'steve'\u001b[0m\u001b[1m)\u001b[0m,\n",
       "    \u001b[1m(\u001b[0m\u001b[32m'john'\u001b[0m, \u001b[32m'mike'\u001b[0m\u001b[1m)\u001b[0m,\n",
       "    \u001b[1m(\u001b[0m\u001b[32m'chris'\u001b[0m, \u001b[32m'john'\u001b[0m\u001b[1m)\u001b[0m,\n",
       "    \u001b[1m(\u001b[0m\u001b[32m'chris'\u001b[0m, \u001b[32m'steve'\u001b[0m\u001b[1m)\u001b[0m,\n",
       "    \u001b[1m(\u001b[0m\u001b[32m'chris'\u001b[0m, \u001b[32m'mike'\u001b[0m\u001b[1m)\u001b[0m,\n",
       "    \u001b[1m(\u001b[0m\u001b[32m'steve'\u001b[0m, \u001b[32m'john'\u001b[0m\u001b[1m)\u001b[0m,\n",
       "    \u001b[1m(\u001b[0m\u001b[32m'steve'\u001b[0m, \u001b[32m'chris'\u001b[0m\u001b[1m)\u001b[0m,\n",
       "    \u001b[1m(\u001b[0m\u001b[32m'steve'\u001b[0m, \u001b[32m'mike'\u001b[0m\u001b[1m)\u001b[0m,\n",
       "    \u001b[1m(\u001b[0m\u001b[32m'mike'\u001b[0m, \u001b[32m'john'\u001b[0m\u001b[1m)\u001b[0m,\n",
       "    \u001b[1m(\u001b[0m\u001b[32m'mike'\u001b[0m, \u001b[32m'chris'\u001b[0m\u001b[1m)\u001b[0m,\n",
       "    \u001b[1m(\u001b[0m\u001b[32m'mike'\u001b[0m, \u001b[32m'steve'\u001b[0m\u001b[1m)\u001b[0m\n",
       "\u001b[1m]\u001b[0m\n"
      ]
     },
     "metadata": {},
     "output_type": "display_data"
    }
   ],
   "source": [
    "list(itertools.permutations(a, 2))\n",
    "\n"
   ]
  },
  {
   "cell_type": "code",
   "execution_count": 6,
   "metadata": {},
   "outputs": [
    {
     "data": {
      "text/html": [
       "<pre style=\"white-space:pre;overflow-x:auto;line-height:normal;font-family:Menlo,'DejaVu Sans Mono',consolas,'Courier New',monospace\">\n",
       "<span style=\"font-weight: bold\">[</span>\n",
       "    <span style=\"font-weight: bold\">(</span><span style=\"color: #008000; text-decoration-color: #008000\">'john'</span>, <span style=\"color: #008000; text-decoration-color: #008000\">'john'</span>, <span style=\"color: #008000; text-decoration-color: #008000\">'john'</span><span style=\"font-weight: bold\">)</span>,\n",
       "    <span style=\"font-weight: bold\">(</span><span style=\"color: #008000; text-decoration-color: #008000\">'john'</span>, <span style=\"color: #008000; text-decoration-color: #008000\">'john'</span>, <span style=\"color: #008000; text-decoration-color: #008000\">'chris'</span><span style=\"font-weight: bold\">)</span>,\n",
       "    <span style=\"font-weight: bold\">(</span><span style=\"color: #008000; text-decoration-color: #008000\">'john'</span>, <span style=\"color: #008000; text-decoration-color: #008000\">'john'</span>, <span style=\"color: #008000; text-decoration-color: #008000\">'steve'</span><span style=\"font-weight: bold\">)</span>,\n",
       "    <span style=\"font-weight: bold\">(</span><span style=\"color: #008000; text-decoration-color: #008000\">'john'</span>, <span style=\"color: #008000; text-decoration-color: #008000\">'john'</span>, <span style=\"color: #008000; text-decoration-color: #008000\">'mike'</span><span style=\"font-weight: bold\">)</span>,\n",
       "    <span style=\"font-weight: bold\">(</span><span style=\"color: #008000; text-decoration-color: #008000\">'john'</span>, <span style=\"color: #008000; text-decoration-color: #008000\">'chris'</span>, <span style=\"color: #008000; text-decoration-color: #008000\">'chris'</span><span style=\"font-weight: bold\">)</span>,\n",
       "    <span style=\"font-weight: bold\">(</span><span style=\"color: #008000; text-decoration-color: #008000\">'john'</span>, <span style=\"color: #008000; text-decoration-color: #008000\">'chris'</span>, <span style=\"color: #008000; text-decoration-color: #008000\">'steve'</span><span style=\"font-weight: bold\">)</span>,\n",
       "    <span style=\"font-weight: bold\">(</span><span style=\"color: #008000; text-decoration-color: #008000\">'john'</span>, <span style=\"color: #008000; text-decoration-color: #008000\">'chris'</span>, <span style=\"color: #008000; text-decoration-color: #008000\">'mike'</span><span style=\"font-weight: bold\">)</span>,\n",
       "    <span style=\"font-weight: bold\">(</span><span style=\"color: #008000; text-decoration-color: #008000\">'john'</span>, <span style=\"color: #008000; text-decoration-color: #008000\">'steve'</span>, <span style=\"color: #008000; text-decoration-color: #008000\">'steve'</span><span style=\"font-weight: bold\">)</span>,\n",
       "    <span style=\"font-weight: bold\">(</span><span style=\"color: #008000; text-decoration-color: #008000\">'john'</span>, <span style=\"color: #008000; text-decoration-color: #008000\">'steve'</span>, <span style=\"color: #008000; text-decoration-color: #008000\">'mike'</span><span style=\"font-weight: bold\">)</span>,\n",
       "    <span style=\"font-weight: bold\">(</span><span style=\"color: #008000; text-decoration-color: #008000\">'john'</span>, <span style=\"color: #008000; text-decoration-color: #008000\">'mike'</span>, <span style=\"color: #008000; text-decoration-color: #008000\">'mike'</span><span style=\"font-weight: bold\">)</span>,\n",
       "    <span style=\"font-weight: bold\">(</span><span style=\"color: #008000; text-decoration-color: #008000\">'chris'</span>, <span style=\"color: #008000; text-decoration-color: #008000\">'chris'</span>, <span style=\"color: #008000; text-decoration-color: #008000\">'chris'</span><span style=\"font-weight: bold\">)</span>,\n",
       "    <span style=\"font-weight: bold\">(</span><span style=\"color: #008000; text-decoration-color: #008000\">'chris'</span>, <span style=\"color: #008000; text-decoration-color: #008000\">'chris'</span>, <span style=\"color: #008000; text-decoration-color: #008000\">'steve'</span><span style=\"font-weight: bold\">)</span>,\n",
       "    <span style=\"font-weight: bold\">(</span><span style=\"color: #008000; text-decoration-color: #008000\">'chris'</span>, <span style=\"color: #008000; text-decoration-color: #008000\">'chris'</span>, <span style=\"color: #008000; text-decoration-color: #008000\">'mike'</span><span style=\"font-weight: bold\">)</span>,\n",
       "    <span style=\"font-weight: bold\">(</span><span style=\"color: #008000; text-decoration-color: #008000\">'chris'</span>, <span style=\"color: #008000; text-decoration-color: #008000\">'steve'</span>, <span style=\"color: #008000; text-decoration-color: #008000\">'steve'</span><span style=\"font-weight: bold\">)</span>,\n",
       "    <span style=\"font-weight: bold\">(</span><span style=\"color: #008000; text-decoration-color: #008000\">'chris'</span>, <span style=\"color: #008000; text-decoration-color: #008000\">'steve'</span>, <span style=\"color: #008000; text-decoration-color: #008000\">'mike'</span><span style=\"font-weight: bold\">)</span>,\n",
       "    <span style=\"font-weight: bold\">(</span><span style=\"color: #008000; text-decoration-color: #008000\">'chris'</span>, <span style=\"color: #008000; text-decoration-color: #008000\">'mike'</span>, <span style=\"color: #008000; text-decoration-color: #008000\">'mike'</span><span style=\"font-weight: bold\">)</span>,\n",
       "    <span style=\"font-weight: bold\">(</span><span style=\"color: #008000; text-decoration-color: #008000\">'steve'</span>, <span style=\"color: #008000; text-decoration-color: #008000\">'steve'</span>, <span style=\"color: #008000; text-decoration-color: #008000\">'steve'</span><span style=\"font-weight: bold\">)</span>,\n",
       "    <span style=\"font-weight: bold\">(</span><span style=\"color: #008000; text-decoration-color: #008000\">'steve'</span>, <span style=\"color: #008000; text-decoration-color: #008000\">'steve'</span>, <span style=\"color: #008000; text-decoration-color: #008000\">'mike'</span><span style=\"font-weight: bold\">)</span>,\n",
       "    <span style=\"font-weight: bold\">(</span><span style=\"color: #008000; text-decoration-color: #008000\">'steve'</span>, <span style=\"color: #008000; text-decoration-color: #008000\">'mike'</span>, <span style=\"color: #008000; text-decoration-color: #008000\">'mike'</span><span style=\"font-weight: bold\">)</span>,\n",
       "    <span style=\"font-weight: bold\">(</span><span style=\"color: #008000; text-decoration-color: #008000\">'mike'</span>, <span style=\"color: #008000; text-decoration-color: #008000\">'mike'</span>, <span style=\"color: #008000; text-decoration-color: #008000\">'mike'</span><span style=\"font-weight: bold\">)</span>\n",
       "<span style=\"font-weight: bold\">]</span>\n",
       "</pre>\n"
      ],
      "text/plain": [
       "\n",
       "\u001b[1m[\u001b[0m\n",
       "    \u001b[1m(\u001b[0m\u001b[32m'john'\u001b[0m, \u001b[32m'john'\u001b[0m, \u001b[32m'john'\u001b[0m\u001b[1m)\u001b[0m,\n",
       "    \u001b[1m(\u001b[0m\u001b[32m'john'\u001b[0m, \u001b[32m'john'\u001b[0m, \u001b[32m'chris'\u001b[0m\u001b[1m)\u001b[0m,\n",
       "    \u001b[1m(\u001b[0m\u001b[32m'john'\u001b[0m, \u001b[32m'john'\u001b[0m, \u001b[32m'steve'\u001b[0m\u001b[1m)\u001b[0m,\n",
       "    \u001b[1m(\u001b[0m\u001b[32m'john'\u001b[0m, \u001b[32m'john'\u001b[0m, \u001b[32m'mike'\u001b[0m\u001b[1m)\u001b[0m,\n",
       "    \u001b[1m(\u001b[0m\u001b[32m'john'\u001b[0m, \u001b[32m'chris'\u001b[0m, \u001b[32m'chris'\u001b[0m\u001b[1m)\u001b[0m,\n",
       "    \u001b[1m(\u001b[0m\u001b[32m'john'\u001b[0m, \u001b[32m'chris'\u001b[0m, \u001b[32m'steve'\u001b[0m\u001b[1m)\u001b[0m,\n",
       "    \u001b[1m(\u001b[0m\u001b[32m'john'\u001b[0m, \u001b[32m'chris'\u001b[0m, \u001b[32m'mike'\u001b[0m\u001b[1m)\u001b[0m,\n",
       "    \u001b[1m(\u001b[0m\u001b[32m'john'\u001b[0m, \u001b[32m'steve'\u001b[0m, \u001b[32m'steve'\u001b[0m\u001b[1m)\u001b[0m,\n",
       "    \u001b[1m(\u001b[0m\u001b[32m'john'\u001b[0m, \u001b[32m'steve'\u001b[0m, \u001b[32m'mike'\u001b[0m\u001b[1m)\u001b[0m,\n",
       "    \u001b[1m(\u001b[0m\u001b[32m'john'\u001b[0m, \u001b[32m'mike'\u001b[0m, \u001b[32m'mike'\u001b[0m\u001b[1m)\u001b[0m,\n",
       "    \u001b[1m(\u001b[0m\u001b[32m'chris'\u001b[0m, \u001b[32m'chris'\u001b[0m, \u001b[32m'chris'\u001b[0m\u001b[1m)\u001b[0m,\n",
       "    \u001b[1m(\u001b[0m\u001b[32m'chris'\u001b[0m, \u001b[32m'chris'\u001b[0m, \u001b[32m'steve'\u001b[0m\u001b[1m)\u001b[0m,\n",
       "    \u001b[1m(\u001b[0m\u001b[32m'chris'\u001b[0m, \u001b[32m'chris'\u001b[0m, \u001b[32m'mike'\u001b[0m\u001b[1m)\u001b[0m,\n",
       "    \u001b[1m(\u001b[0m\u001b[32m'chris'\u001b[0m, \u001b[32m'steve'\u001b[0m, \u001b[32m'steve'\u001b[0m\u001b[1m)\u001b[0m,\n",
       "    \u001b[1m(\u001b[0m\u001b[32m'chris'\u001b[0m, \u001b[32m'steve'\u001b[0m, \u001b[32m'mike'\u001b[0m\u001b[1m)\u001b[0m,\n",
       "    \u001b[1m(\u001b[0m\u001b[32m'chris'\u001b[0m, \u001b[32m'mike'\u001b[0m, \u001b[32m'mike'\u001b[0m\u001b[1m)\u001b[0m,\n",
       "    \u001b[1m(\u001b[0m\u001b[32m'steve'\u001b[0m, \u001b[32m'steve'\u001b[0m, \u001b[32m'steve'\u001b[0m\u001b[1m)\u001b[0m,\n",
       "    \u001b[1m(\u001b[0m\u001b[32m'steve'\u001b[0m, \u001b[32m'steve'\u001b[0m, \u001b[32m'mike'\u001b[0m\u001b[1m)\u001b[0m,\n",
       "    \u001b[1m(\u001b[0m\u001b[32m'steve'\u001b[0m, \u001b[32m'mike'\u001b[0m, \u001b[32m'mike'\u001b[0m\u001b[1m)\u001b[0m,\n",
       "    \u001b[1m(\u001b[0m\u001b[32m'mike'\u001b[0m, \u001b[32m'mike'\u001b[0m, \u001b[32m'mike'\u001b[0m\u001b[1m)\u001b[0m\n",
       "\u001b[1m]\u001b[0m\n"
      ]
     },
     "metadata": {},
     "output_type": "display_data"
    }
   ],
   "source": [
    "list(itertools.combinations_with_replacement(a, 3))\n"
   ]
  },
  {
   "cell_type": "code",
   "execution_count": 29,
   "metadata": {},
   "outputs": [],
   "source": [
    "b = list(itertools.combinations_with_replacement(\"123456\", 6))"
   ]
  },
  {
   "cell_type": "code",
   "execution_count": 30,
   "metadata": {},
   "outputs": [],
   "source": [
    "c = [ list(x) for x in b]"
   ]
  },
  {
   "cell_type": "code",
   "execution_count": 31,
   "metadata": {},
   "outputs": [],
   "source": [
    "d = [ [int(x) for x in y] for y in c]\n",
    "\n",
    "e = [ (x, sum(x)) for x in d]"
   ]
  },
  {
   "cell_type": "code",
   "execution_count": 32,
   "metadata": {},
   "outputs": [],
   "source": [
    "f = [y for x,y in e]\n",
    "f\n",
    "h = list(zip(*e))[1]"
   ]
  },
  {
   "cell_type": "code",
   "execution_count": 39,
   "metadata": {},
   "outputs": [
    {
     "name": "stdout",
     "output_type": "stream",
     "text": [
      "Counter({20: 32,\n",
      "         21: 32,\n",
      "         22: 32,\n",
      "         19: 30,\n",
      "         23: 30,\n",
      "         18: 29,\n",
      "         24: 29,\n",
      "         17: 25,\n",
      "         25: 25,\n",
      "         16: 23,\n",
      "         26: 23,\n",
      "         15: 19,\n",
      "         27: 19,\n",
      "         14: 16,\n",
      "         28: 16,\n",
      "         13: 12,\n",
      "         29: 12,\n",
      "         12: 10,\n",
      "         30: 10,\n",
      "         11: 7,\n",
      "         31: 7,\n",
      "         10: 5,\n",
      "         32: 5,\n",
      "         9: 3,\n",
      "         33: 3,\n",
      "         8: 2,\n",
      "         34: 2,\n",
      "         6: 1,\n",
      "         7: 1,\n",
      "         35: 1,\n",
      "         36: 1})\n",
      "[(6, 1),\n",
      " (7, 1),\n",
      " (8, 2),\n",
      " (9, 3),\n",
      " (10, 5),\n",
      " (11, 7),\n",
      " (12, 10),\n",
      " (13, 12),\n",
      " (14, 16),\n",
      " (15, 19),\n",
      " (16, 23),\n",
      " (17, 25),\n",
      " (18, 29),\n",
      " (19, 30),\n",
      " (20, 32),\n",
      " (21, 32),\n",
      " (22, 32),\n",
      " (23, 30),\n",
      " (24, 29),\n",
      " (25, 25),\n",
      " (26, 23),\n",
      " (27, 19),\n",
      " (28, 16),\n",
      " (29, 12),\n",
      " (30, 10),\n",
      " (31, 7),\n",
      " (32, 5),\n",
      " (33, 3),\n",
      " (34, 2),\n",
      " (35, 1),\n",
      " (36, 1)]\n"
     ]
    }
   ],
   "source": [
    "from collections import Counter\n",
    "from pprint import pprint\n",
    "\n",
    "g = Counter(f)\n",
    "z = g\n",
    "sorted(g.items())\n",
    "pprint(g)\n",
    "y = sorted(z.items())\n",
    "pprint(y)"
   ]
  },
  {
   "cell_type": "code",
   "execution_count": 12,
   "metadata": {},
   "outputs": [
    {
     "data": {
      "text/html": [
       "<pre style=\"white-space:pre;overflow-x:auto;line-height:normal;font-family:Menlo,'DejaVu Sans Mono',consolas,'Courier New',monospace\">\n",
       "<span style=\"font-weight: bold\">(</span>\n",
       "    <span style=\"color: #008080; text-decoration-color: #008080; font-weight: bold\">3</span>,\n",
       "    <span style=\"color: #008080; text-decoration-color: #008080; font-weight: bold\">4</span>,\n",
       "    <span style=\"color: #008080; text-decoration-color: #008080; font-weight: bold\">5</span>,\n",
       "    <span style=\"color: #008080; text-decoration-color: #008080; font-weight: bold\">6</span>,\n",
       "    <span style=\"color: #008080; text-decoration-color: #008080; font-weight: bold\">7</span>,\n",
       "    <span style=\"color: #008080; text-decoration-color: #008080; font-weight: bold\">8</span>,\n",
       "    <span style=\"color: #008080; text-decoration-color: #008080; font-weight: bold\">5</span>,\n",
       "    <span style=\"color: #008080; text-decoration-color: #008080; font-weight: bold\">6</span>,\n",
       "    <span style=\"color: #008080; text-decoration-color: #008080; font-weight: bold\">7</span>,\n",
       "    <span style=\"color: #008080; text-decoration-color: #008080; font-weight: bold\">8</span>,\n",
       "    <span style=\"color: #008080; text-decoration-color: #008080; font-weight: bold\">9</span>,\n",
       "    <span style=\"color: #008080; text-decoration-color: #008080; font-weight: bold\">7</span>,\n",
       "    <span style=\"color: #008080; text-decoration-color: #008080; font-weight: bold\">8</span>,\n",
       "    <span style=\"color: #008080; text-decoration-color: #008080; font-weight: bold\">9</span>,\n",
       "    <span style=\"color: #008080; text-decoration-color: #008080; font-weight: bold\">10</span>,\n",
       "    <span style=\"color: #008080; text-decoration-color: #008080; font-weight: bold\">9</span>,\n",
       "    <span style=\"color: #008080; text-decoration-color: #008080; font-weight: bold\">10</span>,\n",
       "    <span style=\"color: #008080; text-decoration-color: #008080; font-weight: bold\">11</span>,\n",
       "    <span style=\"color: #008080; text-decoration-color: #008080; font-weight: bold\">11</span>,\n",
       "    <span style=\"color: #008080; text-decoration-color: #008080; font-weight: bold\">12</span>,\n",
       "    <span style=\"color: #008080; text-decoration-color: #008080; font-weight: bold\">13</span>,\n",
       "    <span style=\"color: #008080; text-decoration-color: #008080; font-weight: bold\">6</span>,\n",
       "    <span style=\"color: #008080; text-decoration-color: #008080; font-weight: bold\">7</span>,\n",
       "    <span style=\"color: #008080; text-decoration-color: #008080; font-weight: bold\">8</span>,\n",
       "    <span style=\"color: #008080; text-decoration-color: #008080; font-weight: bold\">9</span>,\n",
       "    <span style=\"color: #008080; text-decoration-color: #008080; font-weight: bold\">10</span>,\n",
       "    <span style=\"color: #008080; text-decoration-color: #008080; font-weight: bold\">8</span>,\n",
       "    <span style=\"color: #008080; text-decoration-color: #008080; font-weight: bold\">9</span>,\n",
       "    <span style=\"color: #008080; text-decoration-color: #008080; font-weight: bold\">10</span>,\n",
       "    <span style=\"color: #008080; text-decoration-color: #008080; font-weight: bold\">11</span>,\n",
       "    <span style=\"color: #008080; text-decoration-color: #008080; font-weight: bold\">10</span>,\n",
       "    <span style=\"color: #008080; text-decoration-color: #008080; font-weight: bold\">11</span>,\n",
       "    <span style=\"color: #008080; text-decoration-color: #008080; font-weight: bold\">12</span>,\n",
       "    <span style=\"color: #008080; text-decoration-color: #008080; font-weight: bold\">12</span>,\n",
       "    <span style=\"color: #008080; text-decoration-color: #008080; font-weight: bold\">13</span>,\n",
       "    <span style=\"color: #008080; text-decoration-color: #008080; font-weight: bold\">14</span>,\n",
       "    <span style=\"color: #008080; text-decoration-color: #008080; font-weight: bold\">9</span>,\n",
       "    <span style=\"color: #008080; text-decoration-color: #008080; font-weight: bold\">10</span>,\n",
       "    <span style=\"color: #008080; text-decoration-color: #008080; font-weight: bold\">11</span>,\n",
       "    <span style=\"color: #008080; text-decoration-color: #008080; font-weight: bold\">12</span>,\n",
       "    <span style=\"color: #008080; text-decoration-color: #008080; font-weight: bold\">11</span>,\n",
       "    <span style=\"color: #008080; text-decoration-color: #008080; font-weight: bold\">12</span>,\n",
       "    <span style=\"color: #008080; text-decoration-color: #008080; font-weight: bold\">13</span>,\n",
       "    <span style=\"color: #008080; text-decoration-color: #008080; font-weight: bold\">13</span>,\n",
       "    <span style=\"color: #008080; text-decoration-color: #008080; font-weight: bold\">14</span>,\n",
       "    <span style=\"color: #008080; text-decoration-color: #008080; font-weight: bold\">15</span>,\n",
       "    <span style=\"color: #008080; text-decoration-color: #008080; font-weight: bold\">12</span>,\n",
       "    <span style=\"color: #008080; text-decoration-color: #008080; font-weight: bold\">13</span>,\n",
       "    <span style=\"color: #008080; text-decoration-color: #008080; font-weight: bold\">14</span>,\n",
       "    <span style=\"color: #008080; text-decoration-color: #008080; font-weight: bold\">14</span>,\n",
       "    <span style=\"color: #008080; text-decoration-color: #008080; font-weight: bold\">15</span>,\n",
       "    <span style=\"color: #008080; text-decoration-color: #008080; font-weight: bold\">16</span>,\n",
       "    <span style=\"color: #008080; text-decoration-color: #008080; font-weight: bold\">15</span>,\n",
       "    <span style=\"color: #008080; text-decoration-color: #008080; font-weight: bold\">16</span>,\n",
       "    <span style=\"color: #008080; text-decoration-color: #008080; font-weight: bold\">17</span>,\n",
       "    <span style=\"color: #008080; text-decoration-color: #008080; font-weight: bold\">18</span>\n",
       "<span style=\"font-weight: bold\">)</span>\n",
       "</pre>\n"
      ],
      "text/plain": [
       "\n",
       "\u001b[1m(\u001b[0m\n",
       "    \u001b[1;36m3\u001b[0m,\n",
       "    \u001b[1;36m4\u001b[0m,\n",
       "    \u001b[1;36m5\u001b[0m,\n",
       "    \u001b[1;36m6\u001b[0m,\n",
       "    \u001b[1;36m7\u001b[0m,\n",
       "    \u001b[1;36m8\u001b[0m,\n",
       "    \u001b[1;36m5\u001b[0m,\n",
       "    \u001b[1;36m6\u001b[0m,\n",
       "    \u001b[1;36m7\u001b[0m,\n",
       "    \u001b[1;36m8\u001b[0m,\n",
       "    \u001b[1;36m9\u001b[0m,\n",
       "    \u001b[1;36m7\u001b[0m,\n",
       "    \u001b[1;36m8\u001b[0m,\n",
       "    \u001b[1;36m9\u001b[0m,\n",
       "    \u001b[1;36m10\u001b[0m,\n",
       "    \u001b[1;36m9\u001b[0m,\n",
       "    \u001b[1;36m10\u001b[0m,\n",
       "    \u001b[1;36m11\u001b[0m,\n",
       "    \u001b[1;36m11\u001b[0m,\n",
       "    \u001b[1;36m12\u001b[0m,\n",
       "    \u001b[1;36m13\u001b[0m,\n",
       "    \u001b[1;36m6\u001b[0m,\n",
       "    \u001b[1;36m7\u001b[0m,\n",
       "    \u001b[1;36m8\u001b[0m,\n",
       "    \u001b[1;36m9\u001b[0m,\n",
       "    \u001b[1;36m10\u001b[0m,\n",
       "    \u001b[1;36m8\u001b[0m,\n",
       "    \u001b[1;36m9\u001b[0m,\n",
       "    \u001b[1;36m10\u001b[0m,\n",
       "    \u001b[1;36m11\u001b[0m,\n",
       "    \u001b[1;36m10\u001b[0m,\n",
       "    \u001b[1;36m11\u001b[0m,\n",
       "    \u001b[1;36m12\u001b[0m,\n",
       "    \u001b[1;36m12\u001b[0m,\n",
       "    \u001b[1;36m13\u001b[0m,\n",
       "    \u001b[1;36m14\u001b[0m,\n",
       "    \u001b[1;36m9\u001b[0m,\n",
       "    \u001b[1;36m10\u001b[0m,\n",
       "    \u001b[1;36m11\u001b[0m,\n",
       "    \u001b[1;36m12\u001b[0m,\n",
       "    \u001b[1;36m11\u001b[0m,\n",
       "    \u001b[1;36m12\u001b[0m,\n",
       "    \u001b[1;36m13\u001b[0m,\n",
       "    \u001b[1;36m13\u001b[0m,\n",
       "    \u001b[1;36m14\u001b[0m,\n",
       "    \u001b[1;36m15\u001b[0m,\n",
       "    \u001b[1;36m12\u001b[0m,\n",
       "    \u001b[1;36m13\u001b[0m,\n",
       "    \u001b[1;36m14\u001b[0m,\n",
       "    \u001b[1;36m14\u001b[0m,\n",
       "    \u001b[1;36m15\u001b[0m,\n",
       "    \u001b[1;36m16\u001b[0m,\n",
       "    \u001b[1;36m15\u001b[0m,\n",
       "    \u001b[1;36m16\u001b[0m,\n",
       "    \u001b[1;36m17\u001b[0m,\n",
       "    \u001b[1;36m18\u001b[0m\n",
       "\u001b[1m)\u001b[0m\n"
      ]
     },
     "metadata": {},
     "output_type": "display_data"
    }
   ],
   "source": [
    "h"
   ]
  },
  {
   "cell_type": "code",
   "execution_count": null,
   "metadata": {},
   "outputs": [],
   "source": []
  }
 ],
 "metadata": {
  "kernelspec": {
   "display_name": "Python 3",
   "language": "python",
   "name": "python3"
  },
  "language_info": {
   "codemirror_mode": {
    "name": "ipython",
    "version": 3
   },
   "file_extension": ".py",
   "mimetype": "text/x-python",
   "name": "python",
   "nbconvert_exporter": "python",
   "pygments_lexer": "ipython3",
   "version": "3.8.1"
  }
 },
 "nbformat": 4,
 "nbformat_minor": 4
}
