{
 "cells": [
  {
   "cell_type": "code",
   "execution_count": 24,
   "metadata": {},
   "outputs": [],
   "source": [
    "class Tree:\n",
    "    #\"Generic tree node.\"\n",
    "    def __init__(self, name='root', children=None):\n",
    "        self.name = name\n",
    "        self.children = []\n",
    "        if children is not None:\n",
    "            for child in children:\n",
    "                self.add_child(child)\n",
    "\n",
    "    def __repr__(self):\n",
    "        return self.name\n",
    "\n",
    "    def full_walk_from_node(self, indent=0):\n",
    "        ind = indent*\"--\"\n",
    "        print(f\"{ind}{self.name}\")\n",
    "        indent += 1\n",
    "        for child in self.children:\n",
    "            child.full_walk_from_node(indent)\n",
    "\n",
    "    def add_child(self, node):\n",
    "        assert isinstance(node, Tree)\n",
    "        self.children.append(node)"
   ]
  },
  {
   "cell_type": "code",
   "execution_count": 25,
   "metadata": {},
   "outputs": [],
   "source": [
    "t = Tree('root')\n",
    "for i in range(1,5):\n",
    "    x = Tree(f\"child_{i}\")\n",
    "    t.add_child(x)\n",
    "    for j in range(1,3):\n",
    "        y = Tree(f\"child_{j}_of_child_{i}\")\n",
    "        x.add_child(y)\n",
    "\n"
   ]
  },
  {
   "cell_type": "code",
   "execution_count": 26,
   "metadata": {},
   "outputs": [
    {
     "name": "stdout",
     "output_type": "stream",
     "text": [
      "root\n",
      "--child_1\n",
      "----child_1_of_child_1\n",
      "----child_2_of_child_1\n",
      "--child_2\n",
      "----child_1_of_child_2\n",
      "----child_2_of_child_2\n",
      "--child_3\n",
      "----child_1_of_child_3\n",
      "----child_2_of_child_3\n",
      "--child_4\n",
      "----child_1_of_child_4\n",
      "----child_2_of_child_4\n"
     ]
    }
   ],
   "source": [
    "t.full_walk_from_node()"
   ]
  },
  {
   "cell_type": "code",
   "execution_count": 27,
   "metadata": {},
   "outputs": [],
   "source": [
    "t = Tree('grandbaby')"
   ]
  },
  {
   "cell_type": "code",
   "execution_count": 28,
   "metadata": {},
   "outputs": [
    {
     "data": {
      "text/plain": [
       "child_1_of_child_3"
      ]
     },
     "execution_count": 28,
     "metadata": {},
     "output_type": "execute_result"
    }
   ],
   "source": [
    "Tree(\"child_1_of_child_3\")\n",
    "\n"
   ]
  }
 ],
 "metadata": {
  "kernelspec": {
   "display_name": "Python 3",
   "language": "python",
   "name": "python3"
  },
  "language_info": {
   "codemirror_mode": {
    "name": "ipython",
    "version": 3
   },
   "file_extension": ".py",
   "mimetype": "text/x-python",
   "name": "python",
   "nbconvert_exporter": "python",
   "pygments_lexer": "ipython3",
   "version": "3.11.1 (v3.11.1:a7a450f84a, Dec  6 2022, 15:24:06) [Clang 13.0.0 (clang-1300.0.29.30)]"
  },
  "orig_nbformat": 4,
  "vscode": {
   "interpreter": {
    "hash": "aee8b7b246df8f9039afb4144a1f6fd8d2ca17a180786b69acc140d282b71a49"
   }
  }
 },
 "nbformat": 4,
 "nbformat_minor": 2
}
