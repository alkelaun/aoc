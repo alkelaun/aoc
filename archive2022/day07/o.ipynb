{
 "cells": [
  {
   "cell_type": "code",
   "execution_count": 1,
   "metadata": {},
   "outputs": [],
   "source": [
    "# An orienteering course with laid out with an east-west line\n",
    "# 0 is the furthest east #, and #20 is furthest west marked in\n",
    "# 5 ft increments.\n",
    "# 100 ft allows participants to get an accurate pace.\n",
    "\n",
    "# the course should not exceed 100 ft in width\n",
    "# and 50' north and 50' south from east-west line\n",
    "\n"
   ]
  },
  {
   "cell_type": "code",
   "execution_count": 52,
   "metadata": {},
   "outputs": [],
   "source": [
    "#\n",
    "\n",
    "import random\n",
    "import math\n",
    "random.seed(10)\n",
    "\n",
    "class Card:\n",
    "    \"\"\" Composed of three courses \"\"\"\n",
    "\n",
    "    def __init__(self):\n",
    "        courses = []\n",
    "\n",
    "\n",
    "class Course:\n",
    "    \"\"\"\n",
    "    Starts and Ends on the east-west line\n",
    "    (x = 0 furthest east, x=100 furthest west)\n",
    "    (y = -50 furthest south, y=50 furthest north)\n",
    "    \"\"\"\n",
    "    def __init__(self):\n",
    "        self.start = self.number()\n",
    "        self.finish = self.number()\n",
    "        self.dir_1 = (),\n",
    "        self.dir_2 = (),\n",
    "        self.dir_3 = (),\n",
    "\n",
    "    def number(self):\n",
    "        return random.randint(0,21)\n",
    "\n",
    "    def coordinate(self):\n",
    "        coordinate = self.start*5, 0\n",
    "\n",
    "    @classmethod\n",
    "    def convert_geo_to_arithmetic(arith):\n",
    "        if (arith >90 and arith <360):\n",
    "            return (360-arith+90)\n",
    "        elif (arith>=0 and arith <= 90):\n",
    "            return (arith*(-1)+90)\n",
    "\n",
    "    def convert_polar_to_coords(direction=None, dist=None):\n",
    "        x=math.sin(math.radians(direction))\n",
    "        y=math.cos(math.radians(direction))\n",
    "        return (x,y)\n",
    "\n",
    "    def test_size(self):\n",
    "        pass\n",
    "\n",
    "    def direction(self):\n",
    "        return random.randint(0,360), random.ranint(0,60)\n",
    "\n",
    "    def printer(self):\n",
    "        print(f\"Starting Point: {self.start}\")\n",
    "        print(f\"Heading | Distance \")\n",
    "        print(f\"  {self.dir_1[0]:3d}°  | {self.dir_1[1]:>4d}\")\n",
    "\n"
   ]
  },
  {
   "cell_type": "code",
   "execution_count": 53,
   "metadata": {},
   "outputs": [
    {
     "name": "stdout",
     "output_type": "stream",
     "text": [
      "Starting Point: 18\n",
      "Heading | Distance \n",
      "   25°  |   35\n"
     ]
    }
   ],
   "source": [
    "c1 = Course()\n",
    "c1.finish\n",
    "c1.dir_1 = (25, 35)\n",
    "c1.printer()"
   ]
  },
  {
   "cell_type": "code",
   "execution_count": 55,
   "metadata": {},
   "outputs": [
    {
     "ename": "AttributeError",
     "evalue": "'Course' object has no attribute 'convert_geo_to_arithemetic'",
     "output_type": "error",
     "traceback": [
      "\u001b[1;31m---------------------------------------------------------------------------\u001b[0m",
      "\u001b[1;31mAttributeError\u001b[0m                            Traceback (most recent call last)",
      "Cell \u001b[1;32mIn [55], line 1\u001b[0m\n\u001b[1;32m----> 1\u001b[0m c1\u001b[39m.\u001b[39;49mconvert_geo_to_arithemetic(\u001b[39m0\u001b[39m)\n",
      "\u001b[1;31mAttributeError\u001b[0m: 'Course' object has no attribute 'convert_geo_to_arithemetic'"
     ]
    }
   ],
   "source": [
    "S.convert_geo_to_arithemetic(0)"
   ]
  },
  {
   "cell_type": "code",
   "execution_count": 48,
   "metadata": {},
   "outputs": [
    {
     "name": "stdout",
     "output_type": "stream",
     "text": [
      "-0.0\n",
      "1.0\n"
     ]
    }
   ],
   "source": [
    "direction=270\n",
    "y = round(math.sin(math.radians(direction+90)),1))\n",
    "print(round(math.cos(math.radians(direction+90)),1))"
   ]
  },
  {
   "cell_type": "code",
   "execution_count": null,
   "metadata": {},
   "outputs": [],
   "source": []
  }
 ],
 "metadata": {
  "kernelspec": {
   "display_name": "Python 3.10.8 64-bit",
   "language": "python",
   "name": "python3"
  },
  "language_info": {
   "codemirror_mode": {
    "name": "ipython",
    "version": 3
   },
   "file_extension": ".py",
   "mimetype": "text/x-python",
   "name": "python",
   "nbconvert_exporter": "python",
   "pygments_lexer": "ipython3",
   "version": "3.10.8"
  },
  "orig_nbformat": 4,
  "vscode": {
   "interpreter": {
    "hash": "13720d42cc9a9a2e6e597c3b169bc0d45c8b08b0bf4c9606498f62407b4906da"
   }
  }
 },
 "nbformat": 4,
 "nbformat_minor": 2
}
